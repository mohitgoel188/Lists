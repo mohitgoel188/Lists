{
 "cells": [
  {
   "cell_type": "code",
   "execution_count": 5,
   "metadata": {
    "ExecuteTime": {
     "end_time": "2019-09-10T06:55:56.506322Z",
     "start_time": "2019-09-10T06:55:56.480306Z"
    },
    "init_cell": true
   },
   "outputs": [],
   "source": [
    "import pandas as pd\n",
    "from salary.models import *\n",
    "import datetime\n",
    "from daily.models import DeliveryStatus, NonDelivery, DeliveryBoy\n",
    "from cash_collection.models import *\n",
    "import git\n",
    "import itertools as it\n",
    "from collections import defaultdict\n",
    "curr_branch = git.Repo('.').active_branch.name\n",
    "doc_dir = '/home/country/Documents/'\n",
    "today_date = datetime.date.today()"
   ]
  },
  {
   "cell_type": "markdown",
   "metadata": {},
   "source": [
    "### Comparing"
   ]
  },
  {
   "cell_type": "code",
   "execution_count": 2,
   "metadata": {
    "ExecuteTime": {
     "end_time": "2019-09-10T06:53:15.169283Z",
     "start_time": "2019-09-10T06:53:15.160890Z"
    },
    "code_folding": [],
    "hide_input": true,
    "init_cell": true
   },
   "outputs": [],
   "source": [
    "def code_snippet_1():\n",
    "    old = RouteStatus.objects.prefetch_related('route', 'delivery_boy').filter(date=datetime.date.today())\n",
    "    lr = []\n",
    "    for r in old:\n",
    "        lr.append(r.route.name)\n",
    "    return lr\n",
    "\n",
    "def code_snippet_2():\n",
    "    old = RouteStatus.objects.filter(date=datetime.date.today()).prefetch_related('route', 'delivery_boy')\n",
    "    lr = []\n",
    "    for r in old:\n",
    "        lr.append(r.route.name)\n",
    "    return lr"
   ]
  },
  {
   "cell_type": "code",
   "execution_count": 70,
   "metadata": {
    "ExecuteTime": {
     "end_time": "2019-09-10T06:35:02.088049Z",
     "start_time": "2019-09-10T06:34:58.220382Z"
    },
    "collapsed": true,
    "hide_input": true
   },
   "outputs": [
    {
     "name": "stdout",
     "output_type": "stream",
     "text": [
      "Code Snippet 1 output: 1\n",
      "Code Snippet 2 output: 1\n",
      "\n",
      "Comparision Result:\n",
      "Code Snippet 2(1.87559199333) is 3.2% or 1.03 times faster than Code Snippet 1(1.93750095367)\n"
     ]
    }
   ],
   "source": [
    "print 'Code Snippet 1 output:',len(code_snippet_1())\n",
    "print 'Code Snippet 2 output:',len(code_snippet_2())\n",
    "print '\\nComparision Result:'\n",
    "TestingHelper.compare(100)"
   ]
  },
  {
   "cell_type": "markdown",
   "metadata": {},
   "source": [
    "### PlayGround"
   ]
  },
  {
   "cell_type": "code",
   "execution_count": null,
   "metadata": {
    "ExecuteTime": {
     "end_time": "2019-09-09T08:49:48.547970Z",
     "start_time": "2019-09-09T08:49:43.070723Z"
    },
    "code_folding": []
   },
   "outputs": [],
   "source": [
    "aggre = list(BoyProductInventory.objects.using('prod').filter(\n",
    "            boy_inventory_id__in=boy_inv,product=70).values(\n",
    "            'product__name','product','boy_inventory__date', 'boy_inventory__boy__center_id',\n",
    "    'boy_inventory__boy__center__name').annotate(Sum('demand'),\n",
    "                                                Sum('taken'),Sum('returned'),Sum('leakage'),Sum('sales'),\n",
    "                                                Sum('other'), Sum('staff')))"
   ]
  },
  {
   "cell_type": "code",
   "execution_count": 8,
   "metadata": {
    "ExecuteTime": {
     "end_time": "2019-09-10T06:57:20.795283Z",
     "start_time": "2019-09-10T06:57:10.503116Z"
    }
   },
   "outputs": [
    {
     "data": {
      "text/plain": [
       "<QuerySet [<BoyInventory: ABDULHAMID WAHID SHAIKH(MAN1908219)>, <BoyInventory: Abdul Razzak(MKE1907083)>, <BoyInventory: Abdul Sayad(MSN1908522)>, <BoyInventory: Altaf Ansari(SDL1908433)>, <BoyInventory: Abhishek Vilas  Sakore(PVS1809029)>, <BoyInventory: Akshay Prahlad Palav(PVS1810135)>, <BoyInventory: Akash Dadasaheb  Nalawade(PVS1809031)>, <BoyInventory: Akshay umesh shinde(PVS1812122)>, <BoyInventory: Akash dayanand jagdale(PVS1904246)>, <BoyInventory: Abhishek Bhaskar Lokhande(NMN1908242)>, <BoyInventory: Akash bose(NDL1904274)>, <BoyInventory: Akhilesh lautanram jayswal  PVS(PVS1908602)>, <BoyInventory: Ajay Kumar S Math(BHL1906270)>, <BoyInventory: Akshay Patwa(MSN1905111)>, <BoyInventory: Akshay Suresh Ingale PNM(PNM1906154)>, <BoyInventory: Amar Nath Jha(SDL1804002)>, <BoyInventory: Abhishek Dadasaheb Bhapkar PVS(PVS1908237)>, <BoyInventory: Abhishek.P(BJP1908020)>, <BoyInventory: Abhishek Dattatray Tarde(PNM1908007)>, <BoyInventory: Altaf Shaikh(MKE1905069)>, '...(remaining elements truncated)...']>"
      ]
     },
     "execution_count": 8,
     "metadata": {},
     "output_type": "execute_result"
    }
   ],
   "source": [
    "BoyInventory.objects.using('prod').filter(date=today_date, taken_at__isnull=False, return_at__isnull=True)"
   ]
  },
  {
   "cell_type": "code",
   "execution_count": 10,
   "metadata": {
    "ExecuteTime": {
     "end_time": "2019-09-10T10:43:23.698760Z",
     "start_time": "2019-09-10T10:43:23.679953Z"
    }
   },
   "outputs": [
    {
     "data": {
      "text/plain": [
       "<QuerySet [u'Dwarka']>"
      ]
     },
     "execution_count": 10,
     "metadata": {},
     "output_type": "execute_result"
    }
   ],
   "source": [
    "DeliveryStatus.objects.first().delivery.route.distributioncentre_set.values_list('name',flat=True)"
   ]
  },
  {
   "cell_type": "code",
   "execution_count": 13,
   "metadata": {
    "ExecuteTime": {
     "end_time": "2019-09-10T10:44:45.307929Z",
     "start_time": "2019-09-10T10:44:45.298651Z"
    }
   },
   "outputs": [
    {
     "data": {
      "text/plain": [
       "<QuerySet [(u'Super general Admin',), (u'Digicall',), (u'admin',), (u'customercare',), (u'Testing',), (u'General admin',), (u'manager',), (u'moderator',)]>"
      ]
     },
     "execution_count": 13,
     "metadata": {},
     "output_type": "execute_result"
    }
   ],
   "source": [
    "Group.objects.values_list('name')"
   ]
  },
  {
   "cell_type": "code",
   "execution_count": 28,
   "metadata": {
    "ExecuteTime": {
     "end_time": "2019-09-10T11:14:35.535005Z",
     "start_time": "2019-09-10T11:14:35.523962Z"
    }
   },
   "outputs": [
    {
     "data": {
      "text/plain": [
       "<QuerySet [{'status': u're', 'status__count': 24}, {'status': u've', 'status__count': 305}, {'status': u'pd', 'status__count': 1250}]>"
      ]
     },
     "execution_count": 28,
     "metadata": {},
     "output_type": "execute_result"
    }
   ],
   "source": [
    "from django.db.models import Avg, Count\n",
    "Document.objects.values('status').annotate(Count('status'))"
   ]
  },
  {
   "cell_type": "code",
   "execution_count": 39,
   "metadata": {
    "ExecuteTime": {
     "end_time": "2019-09-10T11:18:29.684250Z",
     "start_time": "2019-09-10T11:18:29.667774Z"
    }
   },
   "outputs": [
    {
     "data": {
      "text/plain": [
       "0"
      ]
     },
     "execution_count": 39,
     "metadata": {},
     "output_type": "execute_result"
    }
   ],
   "source": [
    "Document.objects.filter(status='pd',file__isnull=True).count()"
   ]
  },
  {
   "cell_type": "markdown",
   "metadata": {},
   "source": [
    "### Roles and Me"
   ]
  },
  {
   "cell_type": "code",
   "execution_count": 4,
   "metadata": {
    "hide_input": true
   },
   "outputs": [],
   "source": [
    "roles = list(Group.objects.all().values_list('name', flat=True))"
   ]
  },
  {
   "cell_type": "code",
   "execution_count": 5,
   "metadata": {
    "collapsed": true,
    "hide_input": true
   },
   "outputs": [
    {
     "data": {
      "text/plain": [
       "[u'Super general Admin',\n",
       " u'Digicall',\n",
       " u'admin',\n",
       " u'customercare',\n",
       " u'Testing',\n",
       " u'General admin',\n",
       " u'manager',\n",
       " u'moderator']"
      ]
     },
     "execution_count": 5,
     "metadata": {},
     "output_type": "execute_result"
    }
   ],
   "source": [
    "roles"
   ]
  },
  {
   "cell_type": "code",
   "execution_count": 31,
   "metadata": {
    "hide_input": true
   },
   "outputs": [],
   "source": [
    "myuser = User.objects.get(id=2881)\n",
    "for role in roles:\n",
    "    Group.objects.get(name=role).user_set.remove(myuser) \n",
    "myuser.is_superuser=True\n",
    "myuser.save()"
   ]
  },
  {
   "cell_type": "markdown",
   "metadata": {},
   "source": [
    "## Old and New Query"
   ]
  },
  {
   "cell_type": "code",
   "execution_count": 38,
   "metadata": {
    "code_folding": [],
    "hide_input": true
   },
   "outputs": [],
   "source": [
    "# New Query(1.96520900726) is 8.7% or 1.1 times faster than Old Query(2.15243196487)\n",
    "from django.db.models.functions import TruncDay\n",
    "old = DeliveryStatus.objects.filter(delivery__deliveryBoy__uid='NOD1809014', delivered=True,\n",
    "                               date__month=2, date__year=2019\n",
    "                               ).annotate(day=TruncDay('date')\n",
    "                                          ).values('day'\n",
    "                                                   ).annotate(count=Count('id')\n",
    "                                                              ).filter(count__gt=50)\n",
    "new = DeliveryStatus.objects.filter(delivery__deliveryBoy__uid='NOD1809014', delivered=True,\n",
    "                               date__month=2, date__year=2020\n",
    "                               ).values('date').annotate(count=Count('date')).filter(count__gt=50)"
   ]
  },
  {
   "cell_type": "markdown",
   "metadata": {},
   "source": [
    "## Create Test Delivery Boy"
   ]
  },
  {
   "cell_type": "code",
   "execution_count": 3,
   "metadata": {
    "ExecuteTime": {
     "end_time": "2019-09-10T06:53:15.259714Z",
     "start_time": "2019-09-10T06:53:15.173436Z"
    },
    "hide_input": true,
    "init_cell": true
   },
   "outputs": [],
   "source": [
    "# Base: CEN1704002(id=1)\n",
    "def create_test_delivery_boy(name, mobile, base_id=1, roles=['Testing']):\n",
    "    if not DeliveryBoy.objects.filter(mobile=mobile).exists():\n",
    "        boy = DeliveryBoy.objects.get(id=base_id)\n",
    "\n",
    "        boy_cust = Customer.objects.get(id=boy.customer_id)\n",
    "        boy_cust.pk = None\n",
    "        boy_cust.id = Customer.objects.latest('id').id + 1\n",
    "        boy_cust.phone = mobile\n",
    "        boy_cust.name = name + 'Test'\n",
    "        boy_cust.save()\n",
    "\n",
    "        boy_user = User.objects.get(id=boy.user_id)\n",
    "        boy_user.pk = None\n",
    "        boy_user.id = User.objects.latest('id').id + 1\n",
    "        boy_user.username = mobile\n",
    "        boy_user.save()\n",
    "        for role in roles:\n",
    "            Group.objects.get(name=role).user_set.add(boy_user)\n",
    "\n",
    "        boy.pk = None\n",
    "        boy.id = DeliveryBoy.objects.latest('id').id + 1\n",
    "        boy.customer_id = boy_cust.id\n",
    "        boy.name = name\n",
    "        boy.acc_holder = name\n",
    "        boy.father = 'GOD'\n",
    "        boy.mobile = mobile\n",
    "        boy.doj = datetime.date.today()\n",
    "        boy.uid = boy.get_uid()\n",
    "        boy.user_id = boy_user.id\n",
    "        boy.save()\n",
    "\n",
    "        Token.objects.create(user_id=boy.user_id)\n",
    "        return boy\n",
    "    return 'Delivery Boy with given mobile number already exists'"
   ]
  },
  {
   "cell_type": "code",
   "execution_count": 7,
   "metadata": {},
   "outputs": [],
   "source": [
    "boy = create_test_delivery_boy('Maddy', '9354372322')"
   ]
  },
  {
   "cell_type": "markdown",
   "metadata": {},
   "source": [
    "## Save to excel"
   ]
  },
  {
   "cell_type": "markdown",
   "metadata": {},
   "source": [
    "### New DB Query"
   ]
  },
  {
   "cell_type": "code",
   "execution_count": 41,
   "metadata": {
    "ExecuteTime": {
     "end_time": "2019-09-10T05:48:53.309150Z",
     "start_time": "2019-09-10T05:48:53.292766Z"
    },
    "hide_input": true
   },
   "outputs": [],
   "source": [
    "import pandas as pd\n",
    "from collections import defaultdict\n",
    "# UID | Name | DOJ | Per Diem Applicable Date | First Date of Present |\n",
    "\n",
    "db_id_done = {}\n",
    "query_iter = iter(Attendance.objects.using('prod').filter(boy__doj__year=2019,\n",
    "                                                          boy__doj__month=8,\n",
    "                                                          present=True\n",
    "                                                          ).order_by('date'\n",
    "                                                                     ).values_list('boy',\n",
    "                                                                                   'boy__name',\n",
    "                                                                                   'boy__uid',\n",
    "                                                                                   'boy__doj',\n",
    "                                                                                   'date'))\n",
    "\n",
    "value_dict = defaultdict(list)\n",
    "for db,name,uid,doj,date in query_iter:\n",
    "    if not db_id_done.get(db, False):\n",
    "        value_dict['UID'].append(uid)\n",
    "        value_dict['Name'].append(name)\n",
    "        value_dict['DOJ'].append(doj)\n",
    "        value_dict['First date of present'].append(date)\n",
    "        per_diem = PerDiem.objects.using('prod').filter(delivery_boy_id=db\n",
    "                                                  ).order_by('start_date'\n",
    "                                                             ).first()\n",
    "        value_dict['Per Diem applicable date'].append(per_diem.start_date)\n",
    "        db_id_done[db] = True"
   ]
  },
  {
   "cell_type": "code",
   "execution_count": 74,
   "metadata": {
    "ExecuteTime": {
     "end_time": "2019-09-10T06:47:56.632395Z",
     "start_time": "2019-09-10T06:47:55.129185Z"
    },
    "hide_input": true
   },
   "outputs": [],
   "source": [
    "df = pd.DataFrame.from_dict(value_dict,)\n",
    "with pd.ExcelWriter(doc_dir+'output.xlsx', engine='xlsxwriter') as writer:  # doctest: +SKIP\n",
    "     df.to_excel(writer, sheet_name='Sheet_1', index=False)\n",
    "     # df2.to_excel(writer, sheet_name='Sheet_name_2')"
   ]
  },
  {
   "cell_type": "markdown",
   "metadata": {},
   "source": [
    "### Demand And Sales"
   ]
  },
  {
   "cell_type": "code",
   "execution_count": null,
   "metadata": {
    "hide_input": true
   },
   "outputs": [],
   "source": [
    "demand_data = list(DeliveryProduct.objects.using('prod').filter(delivery__date__gte=datetime.date(2019,6,8), \n",
    "                                  ).exclude(delivery__route__name__istartswith='app test'\n",
    "                                           ).values('delivery__date',\n",
    "                                             'delivery__route__distributioncentre__name',\n",
    "                                             'product__name',\n",
    "                                            ).annotate(demand=Sum('quantity')))\n",
    "demand_df = pd.DataFrame.from_dict(demand_data)\n",
    "\n",
    "sale_data = list(DeliveryStatusProduct.objects.using('prod').filter(\n",
    "                delivery_status__delivery__date__gte=datetime.date(2019,6,8), \n",
    "                delivery_status__delivered=True\n",
    "                        ).exclude(delivery_status__delivery__route__name__istartswith='app test'\n",
    "                                 ).values('delivery_status__delivery__date',\n",
    "                                 'delivery_status__delivery__route__distributioncentre__name',\n",
    "                                 'delivery_product__name'\n",
    "                    ).annotate(sale=Sum('quantity')))\n",
    "sale_df = pd.DataFrame.from_dict(sale_data)"
   ]
  },
  {
   "cell_type": "code",
   "execution_count": null,
   "metadata": {
    "hide_input": true
   },
   "outputs": [],
   "source": [
    "demand_df = demand_df[[u'delivery__date', u'delivery__route__distributioncentre__name',\n",
    "                       u'product__name', u'demand']]\n",
    "sales_df = sales_df[[u'delivery_status__delivery__date',\n",
    "                     u'delivery_status__delivery__route__distributioncentre__name',\n",
    "                     u'delivery_product__name', u'sale']]\n",
    "demand_df.columns = [u'date', u'distribution_centre_name',u'product_name', u'demand']\n",
    "sales_df.columns = [u'date', u'distribution_centre_name',u'product_name', u'sales']"
   ]
  },
  {
   "cell_type": "code",
   "execution_count": null,
   "metadata": {
    "hide_input": true
   },
   "outputs": [],
   "source": [
    "demand_sales_df = pd.merge(demand_df,sales_df,how='outer',\n",
    "                           on=[u'date', u'distribution_centre_name',u'product_name'])\n",
    "pd.pivot_table(demand_sales_df,['demand','sales'],\n",
    "               ['date', u'distribution_centre_name','product_name']\n",
    "              ).to_excel(doc_dir+'Demand_Sales.xls')"
   ]
  },
  {
   "cell_type": "markdown",
   "metadata": {},
   "source": [
    "## Create deliveries"
   ]
  },
  {
   "cell_type": "markdown",
   "metadata": {},
   "source": [
    "Early customer routes ids"
   ]
  },
  {
   "cell_type": "code",
   "execution_count": 59,
   "metadata": {
    "ExecuteTime": {
     "end_time": "2019-09-10T06:02:25.911207Z",
     "start_time": "2019-09-10T06:02:25.901214Z"
    },
    "code_folding": [],
    "hide_input": true
   },
   "outputs": [],
   "source": [
    "ids = list(Delivery.objects.filter(early_customer=True\n",
    "                                  ).distinct('customer_id'\n",
    "                                            ).values_list('customer_id', \n",
    "                                                          flat=True))\n",
    "pids = list(Delivery.objects.using('prod').filter(date=datetime.datetime.today(),\n",
    "                                                  early_customer=True, \n",
    "                                                  customer_id__in=ids\n",
    "                                                 ).values_list('customer_id',\n",
    "                                                               flat=True)) \n",
    "r = list(Route.objects.filter(delivery__customer_id__in=pids).distinct())\n",
    "for ind, route in enumerate(r):\n",
    "    print(route.id)\n",
    "    if ind>5:\n",
    "        break"
   ]
  },
  {
   "cell_type": "code",
   "execution_count": 39,
   "metadata": {
    "ExecuteTime": {
     "end_time": "2019-09-10T05:35:18.916035Z",
     "start_time": "2019-09-10T05:35:11.564946Z"
    }
   },
   "outputs": [
    {
     "name": "stdout",
     "output_type": "stream",
     "text": [
      "Aakash Bose NDL\n",
      "Haider Khan NDL\n",
      "insert or update on table \"daily_deliveryproduct\" violates foreign key constraint \"daily_deliveryprodu_product_id_bdb7acdc_fk_remoteApp_product_id\"\n",
      "DETAIL:  Key (product_id)=(85) is not present in table \"remoteApp_product\".\n",
      "\n"
     ]
    }
   ],
   "source": [
    "# for CEN1704002(ID=1) and GGN1908002(ID=2496)\n",
    "if curr_branch=='sandbox':\n",
    "    db_ids = [1, 4900]\n",
    "else:\n",
    "    db_ids = [1,2496]\n",
    "route_ids = [391,390]\n",
    "# TEST ROUTES\n",
    "# route_ids = [36,37,38]\n",
    "from remoteApp.management.commands.test import Command\n",
    "self = Command()\n",
    "self.create_deliveries(route_ids)"
   ]
  },
  {
   "cell_type": "markdown",
   "metadata": {},
   "source": [
    "### Assign Deliveres and Cash Pickup"
   ]
  },
  {
   "cell_type": "code",
   "execution_count": 40,
   "metadata": {
    "ExecuteTime": {
     "end_time": "2019-09-10T05:35:19.083254Z",
     "start_time": "2019-09-10T05:35:18.920767Z"
    }
   },
   "outputs": [],
   "source": [
    "for db_id, route_id in zip(it.cycle(db_ids), route_ids):\n",
    "    Delivery.objects.filter(date= datetime.date.today(),\n",
    "                            route_id = route_id\n",
    "                            ).update(deliveryBoy_id=db_id)\n",
    "    CashPickup.objects.filter(date=datetime.date.today(),\n",
    "                              cashpickupstatus__collected_time__isnull=True,\n",
    "                              route_id=route_id\n",
    "                              ).update(cash_collector_id=db_id,\n",
    "                                       high_priority=True)"
   ]
  },
  {
   "cell_type": "markdown",
   "metadata": {},
   "source": [
    "## Testing Helper"
   ]
  },
  {
   "cell_type": "code",
   "execution_count": 4,
   "metadata": {
    "ExecuteTime": {
     "end_time": "2019-09-10T06:53:15.324305Z",
     "start_time": "2019-09-10T06:53:15.264522Z"
    },
    "hide_input": true,
    "init_cell": true
   },
   "outputs": [],
   "source": [
    "from timeit import timeit\n",
    "from django.test.utils import CaptureQueriesContext\n",
    "from django.db import connection\n",
    "import sqlparse\n",
    "\n",
    "class TestingHelper():\n",
    "    @staticmethod\n",
    "    def print_all(*args):\n",
    "        for var in args:\n",
    "            print()\n",
    "            try:\n",
    "                print(var.__name__)\n",
    "            except:\n",
    "                pass\n",
    "            try:\n",
    "                print(var.objects.filter().first().__dict__)\n",
    "            except:\n",
    "                try:\n",
    "                    var = var.__dict__\n",
    "                except:\n",
    "                    pass\n",
    "                if type(var)==dict:\n",
    "                    for key,val in var.items():\n",
    "                        print('{key} - {val}'.format(key,val))\n",
    "                else:\n",
    "                    print(var)\n",
    "    @staticmethod\n",
    "    def compare(num=10000):\n",
    "        \"\"\"\n",
    "        Compares two code snippets with respect to time.\n",
    "\n",
    "        to compare two code snippets:\n",
    "            write code snippets in func1 and func2\n",
    "            call uncomment this function definition and call\n",
    "\n",
    "        \"\"\"\n",
    "        t1 = timeit(\"code_snippet_1()\", setup=\"from __main__ import code_snippet_1\", number=num)\n",
    "        t2 = timeit(\"code_snippet_2()\", setup=\"from __main__ import code_snippet_2\", number=num)\n",
    "        \n",
    "#         t1 = %timeit -n num -o func1()\n",
    "#         t1 = t1.worst\n",
    "#         t2 = %timeit -n num -o func2()\n",
    "#         t2 = t2.worst\n",
    "        \n",
    "        per_diff = round((t2-t1) * 100 / t1, 2)\n",
    "        if per_diff > 0:\n",
    "            times_diff = round(t2 / t1, 2)\n",
    "            print('Code Snippet 2({t2}) is {per_diff}% or {times_diff} times slower than Code Snippet 1({t1})'.format(t2=t2,\n",
    "                                                                                                                      per_diff=per_diff,\n",
    "                                                                                                                      times_diff=times_diff,                                                                                                                      t1=t1))\n",
    "        else:\n",
    "            times_diff = round(t1 / t2, 2)\n",
    "            print('Code Snippet 2({t2}) is {per_diff}% or {times_diff} times faster than Code Snippet 1({t1})'.format(t2=t2,\n",
    "                                                                                                                      per_diff=-per_diff,\n",
    "                                                                                                                      times_diff=times_diff,                                                                                                               t1=t1))\n",
    "    @staticmethod\n",
    "    def queries_analyser(func=None,print_sql=True,queryset=None):\n",
    "        with CaptureQueriesContext(connection) as context:\n",
    "            if func:\n",
    "                func()\n",
    "            elif queryset:\n",
    "                print(queryset)\n",
    "        print 'Total Queries:', context.final_queries - context.initial_queries\n",
    "        if print_sql:\n",
    "            for query in context.captured_queries:\n",
    "                try:\n",
    "                    print(\"\")\n",
    "                    print(sqlparse.format(query['sql'], reindent=True))\n",
    "                    print(\"\")\n",
    "                    print('Execution time: %s'%query['time'])                \n",
    "                except:\n",
    "                    print(query)\n",
    "        return context"
   ]
  },
  {
   "cell_type": "markdown",
   "metadata": {},
   "source": [
    "## MilkCollection Pandas"
   ]
  },
  {
   "cell_type": "code",
   "execution_count": 30,
   "metadata": {
    "hide_input": true
   },
   "outputs": [],
   "source": [
    "def upload_excel(self, request):\n",
    "    template = 'admin/milkcollection/milkcollectionuser/excel_upload.html'\n",
    "    if request.method == 'POST':\n",
    "        form = UserImport(request.POST, request.FILES)\n",
    "        df = pd.read_excel(request.FILES['fileupload'])\n",
    "        df.columns = [col.lower().replace(' ','_') for col in df.columns]\n",
    "        # validation = ImportExcel(request, UserImport, template, self)\n",
    "        # read_status, content = validation.read_contents()\n",
    "        try:\n",
    "            for row in df.itertuples():\n",
    "                if MilkCollectionUser.objects.filter(mobile=row.mobile).exists():\n",
    "                    raise Exception('The user with {0} already exists'.format(row.mobile))\n",
    "                bank, flag = Bank.objects.get_or_create(ifsc=row.bank_ifsc,\n",
    "                                                        defaults={'bank_name': row.bank_name,\n",
    "                                                                       'ifsc': row.bank_ifsc})\n",
    "                bank_details = BankDetails.objects.create(account_no=int(row.account_number), bank=bank, name=row.account_name,\n",
    "                                                          acc_address=row.account_address)\n",
    "                try:\n",
    "                    centre = CollectionCentre.objects.get(centre_id=row.centre_uid)\n",
    "                except CollectionCentre.DoesNotExist:\n",
    "                    error_msg = 'Collection Center UID {0} does not exist'.format(row.centre_uid)\n",
    "                    return  render(request, template,\n",
    "                                   context={'form': form,\n",
    "                                            'error': error_msg})\n",
    "\n",
    "                MilkCollectionUserDefaults = {'name': unicode(row.name, encoding='utf8'),\n",
    "                                              'centre': centre,\n",
    "                                              'address': row.address,\n",
    "                                              'bank_account': bank_details,\n",
    "                                              'old_id': row._12}\n",
    "                user, flag = MilkCollectionUser.objects.get_or_create(mobile=row.mobile,\n",
    "                                                                      defaults=MilkCollectionUserDefaults)\n",
    "                if row.is_agent == 'YES':\n",
    "                    CollectionAgent.objects.get_or_create(user=user)\n",
    "                if row.is_farmer == 'YES':\n",
    "                    Farmer.objects.get_or_create(user=user)\n",
    "        except Exception as e:\n",
    "            return render(request, template, context={'form': form,\n",
    "                                                      'error': 'Error : {0} Row-{1}'.format(e.message, row.name)})\n",
    "        return HttpResponseRedirect(reverse('admin:milkcollection_milkcollectionuser_changelist'))\n",
    "    else:\n",
    "        return render(request, template, context={'form': UserImport})"
   ]
  }
 ],
 "metadata": {
  "celltoolbar": "Initialization Cell",
  "kernelspec": {
   "display_name": "Django Shell-Plus",
   "language": "python",
   "name": "django_extensions"
  },
  "language_info": {
   "codemirror_mode": {
    "name": "ipython",
    "version": 2
   },
   "file_extension": ".py",
   "mimetype": "text/x-python",
   "name": "python",
   "nbconvert_exporter": "python",
   "pygments_lexer": "ipython2",
   "version": "2.7.16"
  }
 },
 "nbformat": 4,
 "nbformat_minor": 2
}
